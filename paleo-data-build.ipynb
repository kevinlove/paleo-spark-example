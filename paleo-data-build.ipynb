{
 "cells": [
  {
   "cell_type": "markdown",
   "metadata": {},
   "source": [
    "This notebook will use GOUDA datasets and services created for working with large datasets:\n",
    "\n",
    "https://github.com/bio-guoda/guoda-datasets\n",
    "\n",
    "\n",
    "A well-formed Spark dataframe of iDigBio data will be loaded and we will extract the data that is of interest to our group.\n",
    "\n",
    "You can read more about working with HDFS files here: https://github.com/bio-guoda/guoda-services/wiki/Jupyter-HDFS\n",
    "\n",
    "In a new terminal, a command like: \n",
    "```hadoop fs -ls /guoda/data | grep idigbio | less ``` \n",
    "\n",
    "will show all of the available iDigBio datasets.\n",
    "\n",
    "/guoda/data/idigbio-20181201T023353-100k.parquet \n",
    "/guoda/data/idigbio-20181201T023353.parquet"
   ]
  },
  {
   "cell_type": "code",
   "execution_count": null,
   "metadata": {
    "collapsed": false
   },
   "outputs": [],
   "source": [
    "idb_df = sqlContext.read.parquet(\"/guoda/data/idigbio-20181201T023353-100k.parquet\")\n",
    "n = idb_df.count()"
   ]
  },
  {
   "cell_type": "markdown",
   "metadata": {},
   "source": [
    "Our iDigBio dataframe has ~115m observations. The schema looks like this: "
   ]
  },
  {
   "cell_type": "code",
   "execution_count": 3,
   "metadata": {
    "collapsed": false
   },
   "outputs": [
    {
     "name": "stdout",
     "output_type": "stream",
     "text": [
      "root\n",
      " |-- barcodevalue: string (nullable = true)\n",
      " |-- basisofrecord: string (nullable = true)\n",
      " |-- bed: string (nullable = true)\n",
      " |-- canonicalname: string (nullable = true)\n",
      " |-- catalognumber: string (nullable = true)\n",
      " |-- class: string (nullable = true)\n",
      " |-- collectioncode: string (nullable = true)\n",
      " |-- collectionid: string (nullable = true)\n",
      " |-- collectionname: string (nullable = true)\n",
      " |-- collector: string (nullable = true)\n",
      " |-- commonname: string (nullable = true)\n",
      " |-- continent: string (nullable = true)\n",
      " |-- coordinateuncertainty: float (nullable = true)\n",
      " |-- country: string (nullable = true)\n",
      " |-- countrycode: string (nullable = true)\n",
      " |-- county: string (nullable = true)\n",
      " |-- data: struct (nullable = true)\n",
      " |    |-- coreid: string (nullable = true)\n",
      " |    |-- dc:rights: string (nullable = true)\n",
      " |    |-- dcterms:accessRights: string (nullable = true)\n",
      " |    |-- dcterms:bibliographicCitation: string (nullable = true)\n",
      " |    |-- dcterms:language: string (nullable = true)\n",
      " |    |-- dcterms:license: string (nullable = true)\n",
      " |    |-- dcterms:modified: string (nullable = true)\n",
      " |    |-- dcterms:references: string (nullable = true)\n",
      " |    |-- dcterms:rights: string (nullable = true)\n",
      " |    |-- dcterms:rightsHolder: string (nullable = true)\n",
      " |    |-- dcterms:source: string (nullable = true)\n",
      " |    |-- dcterms:type: string (nullable = true)\n",
      " |    |-- dwc:VerbatimEventDate: string (nullable = true)\n",
      " |    |-- dwc:acceptedNameUsage: string (nullable = true)\n",
      " |    |-- dwc:acceptedNameUsageID: string (nullable = true)\n",
      " |    |-- dwc:accessRights: string (nullable = true)\n",
      " |    |-- dwc:associatedMedia: string (nullable = true)\n",
      " |    |-- dwc:associatedOccurrences: string (nullable = true)\n",
      " |    |-- dwc:associatedOrganisms: string (nullable = true)\n",
      " |    |-- dwc:associatedReferences: string (nullable = true)\n",
      " |    |-- dwc:associatedSequences: string (nullable = true)\n",
      " |    |-- dwc:associatedTaxa: string (nullable = true)\n",
      " |    |-- dwc:basisOfRecord: string (nullable = true)\n",
      " |    |-- dwc:bed: string (nullable = true)\n",
      " |    |-- dwc:behavior: string (nullable = true)\n",
      " |    |-- dwc:catalogNumber: string (nullable = true)\n",
      " |    |-- dwc:class: string (nullable = true)\n",
      " |    |-- dwc:classs: string (nullable = true)\n",
      " |    |-- dwc:collectionCode: string (nullable = true)\n",
      " |    |-- dwc:collectionID: string (nullable = true)\n",
      " |    |-- dwc:continent: string (nullable = true)\n",
      " |    |-- dwc:coordinatePrecision: string (nullable = true)\n",
      " |    |-- dwc:coordinateUncertaintyInMeters: string (nullable = true)\n",
      " |    |-- dwc:country: string (nullable = true)\n",
      " |    |-- dwc:countryCode: string (nullable = true)\n",
      " |    |-- dwc:county: string (nullable = true)\n",
      " |    |-- dwc:dataGeneralizations: string (nullable = true)\n",
      " |    |-- dwc:datasetID: string (nullable = true)\n",
      " |    |-- dwc:datasetName: string (nullable = true)\n",
      " |    |-- dwc:dateIdentified: string (nullable = true)\n",
      " |    |-- dwc:day: string (nullable = true)\n",
      " |    |-- dwc:decimalLatitude: string (nullable = true)\n",
      " |    |-- dwc:decimalLongitude: string (nullable = true)\n",
      " |    |-- dwc:disposition: string (nullable = true)\n",
      " |    |-- dwc:dynamicProperties: string (nullable = true)\n",
      " |    |-- dwc:earliestAgeOrLowestStage: string (nullable = true)\n",
      " |    |-- dwc:earliestEonOrLowestEonothem: string (nullable = true)\n",
      " |    |-- dwc:earliestEpochOrLowestSeries: string (nullable = true)\n",
      " |    |-- dwc:earliestEraOrLowestErathem: string (nullable = true)\n",
      " |    |-- dwc:earliestPeriodOrLowestSystem: string (nullable = true)\n",
      " |    |-- dwc:endDayOfYear: string (nullable = true)\n",
      " |    |-- dwc:establishmentMeans: string (nullable = true)\n",
      " |    |-- dwc:eventDate: string (nullable = true)\n",
      " |    |-- dwc:eventID: string (nullable = true)\n",
      " |    |-- dwc:eventRemarks: string (nullable = true)\n",
      " |    |-- dwc:eventTime: string (nullable = true)\n",
      " |    |-- dwc:family: string (nullable = true)\n",
      " |    |-- dwc:fieldNotes: string (nullable = true)\n",
      " |    |-- dwc:fieldNumber: string (nullable = true)\n",
      " |    |-- dwc:footprintSRS: string (nullable = true)\n",
      " |    |-- dwc:footprintSpatialFit: string (nullable = true)\n",
      " |    |-- dwc:footprintWKT: string (nullable = true)\n",
      " |    |-- dwc:formation: string (nullable = true)\n",
      " |    |-- dwc:genus: string (nullable = true)\n",
      " |    |-- dwc:geodeticDatum: string (nullable = true)\n",
      " |    |-- dwc:geologicalContextID: string (nullable = true)\n",
      " |    |-- dwc:georeferenceProtocol: string (nullable = true)\n",
      " |    |-- dwc:georeferenceRemarks: string (nullable = true)\n",
      " |    |-- dwc:georeferenceSources: string (nullable = true)\n",
      " |    |-- dwc:georeferenceVerificationStatus: string (nullable = true)\n",
      " |    |-- dwc:georeferencedBy: string (nullable = true)\n",
      " |    |-- dwc:georeferencedDate: string (nullable = true)\n",
      " |    |-- dwc:group: string (nullable = true)\n",
      " |    |-- dwc:habitat: string (nullable = true)\n",
      " |    |-- dwc:higherClassification: string (nullable = true)\n",
      " |    |-- dwc:higherGeography: string (nullable = true)\n",
      " |    |-- dwc:higherGeographyID: string (nullable = true)\n",
      " |    |-- dwc:highestBiostratigraphicZone: string (nullable = true)\n",
      " |    |-- dwc:identificationID: string (nullable = true)\n",
      " |    |-- dwc:identificationQualifier: string (nullable = true)\n",
      " |    |-- dwc:identificationReferences: string (nullable = true)\n",
      " |    |-- dwc:identificationRemarks: string (nullable = true)\n",
      " |    |-- dwc:identificationVerificationStatus: string (nullable = true)\n",
      " |    |-- dwc:identifiedBy: string (nullable = true)\n",
      " |    |-- dwc:individualCount: string (nullable = true)\n",
      " |    |-- dwc:informationWithheld: string (nullable = true)\n",
      " |    |-- dwc:infraspecificEpithet: string (nullable = true)\n",
      " |    |-- dwc:institutionCode: string (nullable = true)\n",
      " |    |-- dwc:institutionID: string (nullable = true)\n",
      " |    |-- dwc:island: string (nullable = true)\n",
      " |    |-- dwc:islandGroup: string (nullable = true)\n",
      " |    |-- dwc:kingdom: string (nullable = true)\n",
      " |    |-- dwc:language: string (nullable = true)\n",
      " |    |-- dwc:latestAgeOrHighestStage: string (nullable = true)\n",
      " |    |-- dwc:latestEonOrHighestEonothem: string (nullable = true)\n",
      " |    |-- dwc:latestEpochOrHighestSeries: string (nullable = true)\n",
      " |    |-- dwc:latestEraOrHighestErathem: string (nullable = true)\n",
      " |    |-- dwc:latestPeriodOrHighestSystem: string (nullable = true)\n",
      " |    |-- dwc:lifeStage: string (nullable = true)\n",
      " |    |-- dwc:lithostratigraphicTerms: string (nullable = true)\n",
      " |    |-- dwc:locality: string (nullable = true)\n",
      " |    |-- dwc:locationAccordingTo: string (nullable = true)\n",
      " |    |-- dwc:locationID: string (nullable = true)\n",
      " |    |-- dwc:locationRemarks: string (nullable = true)\n",
      " |    |-- dwc:lowestBiostratigraphicZone: string (nullable = true)\n",
      " |    |-- dwc:materialSampleID: string (nullable = true)\n",
      " |    |-- dwc:maximumDepthInMeters: string (nullable = true)\n",
      " |    |-- dwc:maximumElevationInMeters: string (nullable = true)\n",
      " |    |-- dwc:member: string (nullable = true)\n",
      " |    |-- dwc:minimumDepthInMeters: string (nullable = true)\n",
      " |    |-- dwc:minimumElevationInMeters: string (nullable = true)\n",
      " |    |-- dwc:modified: string (nullable = true)\n",
      " |    |-- dwc:month: string (nullable = true)\n",
      " |    |-- dwc:municipality: string (nullable = true)\n",
      " |    |-- dwc:nameAccordingTo: string (nullable = true)\n",
      " |    |-- dwc:namePublishedIn: string (nullable = true)\n",
      " |    |-- dwc:namePublishedInID: string (nullable = true)\n",
      " |    |-- dwc:namePublishedInYear: string (nullable = true)\n",
      " |    |-- dwc:nomenclaturalCode: string (nullable = true)\n",
      " |    |-- dwc:nomenclaturalStatus: string (nullable = true)\n",
      " |    |-- dwc:occurrenceDetails: string (nullable = true)\n",
      " |    |-- dwc:occurrenceID: string (nullable = true)\n",
      " |    |-- dwc:occurrenceRemarks: string (nullable = true)\n",
      " |    |-- dwc:occurrenceStatus: string (nullable = true)\n",
      " |    |-- dwc:order: string (nullable = true)\n",
      " |    |-- dwc:organismID: string (nullable = true)\n",
      " |    |-- dwc:organismName: string (nullable = true)\n",
      " |    |-- dwc:organismQuantity: string (nullable = true)\n",
      " |    |-- dwc:organismQuantityType: string (nullable = true)\n",
      " |    |-- dwc:originalNameUsage: string (nullable = true)\n",
      " |    |-- dwc:originalNameUsageID: string (nullable = true)\n",
      " |    |-- dwc:otherCatalogNumbers: string (nullable = true)\n",
      " |    |-- dwc:ownerInstitutionCode: string (nullable = true)\n",
      " |    |-- dwc:parentNameUsage: string (nullable = true)\n",
      " |    |-- dwc:phylum: string (nullable = true)\n",
      " |    |-- dwc:pointRadiusSpatialFit: string (nullable = true)\n",
      " |    |-- dwc:preparations: string (nullable = true)\n",
      " |    |-- dwc:previousIdentifications: string (nullable = true)\n",
      " |    |-- dwc:recordNumber: string (nullable = true)\n",
      " |    |-- dwc:recordedBy: string (nullable = true)\n",
      " |    |-- dwc:reproductiveCondition: string (nullable = true)\n",
      " |    |-- dwc:rights: string (nullable = true)\n",
      " |    |-- dwc:rightsHolder: string (nullable = true)\n",
      " |    |-- dwc:sampleSizeValue: string (nullable = true)\n",
      " |    |-- dwc:samplingEffort: string (nullable = true)\n",
      " |    |-- dwc:samplingProtocol: string (nullable = true)\n",
      " |    |-- dwc:scientificName: string (nullable = true)\n",
      " |    |-- dwc:scientificNameAuthorship: string (nullable = true)\n",
      " |    |-- dwc:scientificNameID: string (nullable = true)\n",
      " |    |-- dwc:sex: string (nullable = true)\n",
      " |    |-- dwc:specificEpithet: string (nullable = true)\n",
      " |    |-- dwc:startDayOfYear: string (nullable = true)\n",
      " |    |-- dwc:stateProvince: string (nullable = true)\n",
      " |    |-- dwc:subgenus: string (nullable = true)\n",
      " |    |-- dwc:taxonID: string (nullable = true)\n",
      " |    |-- dwc:taxonRank: string (nullable = true)\n",
      " |    |-- dwc:taxonRemarks: string (nullable = true)\n",
      " |    |-- dwc:taxonomicStatus: string (nullable = true)\n",
      " |    |-- dwc:typeStatus: string (nullable = true)\n",
      " |    |-- dwc:verbatimCoordinateSystem: string (nullable = true)\n",
      " |    |-- dwc:verbatimCoordinates: string (nullable = true)\n",
      " |    |-- dwc:verbatimDepth: string (nullable = true)\n",
      " |    |-- dwc:verbatimElevation: string (nullable = true)\n",
      " |    |-- dwc:verbatimEventDate: string (nullable = true)\n",
      " |    |-- dwc:verbatimLatitude: string (nullable = true)\n",
      " |    |-- dwc:verbatimLocality: string (nullable = true)\n",
      " |    |-- dwc:verbatimLongitude: string (nullable = true)\n",
      " |    |-- dwc:verbatimSRS: string (nullable = true)\n",
      " |    |-- dwc:verbatimTaxonRank: string (nullable = true)\n",
      " |    |-- dwc:vernacularName: string (nullable = true)\n",
      " |    |-- dwc:waterBody: string (nullable = true)\n",
      " |    |-- dwc:year: string (nullable = true)\n",
      " |    |-- id: string (nullable = true)\n",
      " |    |-- idigbio:recordId: string (nullable = true)\n",
      " |    |-- symbiota:recordEnteredBy: string (nullable = true)\n",
      " |    |-- symbiota:verbatimScientificName: string (nullable = true)\n",
      " |-- datasetid: string (nullable = true)\n",
      " |-- datecollected: timestamp (nullable = true)\n",
      " |-- datemodified: timestamp (nullable = true)\n",
      " |-- dqs: float (nullable = true)\n",
      " |-- earliestageorloweststage: string (nullable = true)\n",
      " |-- earliesteonorlowesteonothem: string (nullable = true)\n",
      " |-- earliestepochorlowestseries: string (nullable = true)\n",
      " |-- earliesteraorlowesterathem: string (nullable = true)\n",
      " |-- earliestperiodorlowestsystem: string (nullable = true)\n",
      " |-- etag: string (nullable = true)\n",
      " |-- eventdate: string (nullable = true)\n",
      " |-- family: string (nullable = true)\n",
      " |-- fieldnumber: string (nullable = true)\n",
      " |-- formation: string (nullable = true)\n",
      " |-- genus: string (nullable = true)\n",
      " |-- geologicalcontextid: string (nullable = true)\n",
      " |-- geopoint: struct (nullable = true)\n",
      " |    |-- lat: double (nullable = true)\n",
      " |    |-- lon: double (nullable = true)\n",
      " |-- group: string (nullable = true)\n",
      " |-- hasImage: boolean (nullable = true)\n",
      " |-- hasMedia: boolean (nullable = true)\n",
      " |-- highertaxon: string (nullable = true)\n",
      " |-- highestbiostratigraphiczone: string (nullable = true)\n",
      " |-- individualcount: float (nullable = true)\n",
      " |-- infraspecificepithet: string (nullable = true)\n",
      " |-- institutioncode: string (nullable = true)\n",
      " |-- institutionid: string (nullable = true)\n",
      " |-- institutionname: string (nullable = true)\n",
      " |-- kingdom: string (nullable = true)\n",
      " |-- latestageorhigheststage: string (nullable = true)\n",
      " |-- latesteonorhighesteonothem: string (nullable = true)\n",
      " |-- latestepochorhighestseries: string (nullable = true)\n",
      " |-- latesteraorhighesterathem: string (nullable = true)\n",
      " |-- latestperiodorhighestsystem: string (nullable = true)\n",
      " |-- lithostratigraphicterms: string (nullable = true)\n",
      " |-- locality: string (nullable = true)\n",
      " |-- lowestbiostratigraphiczone: string (nullable = true)\n",
      " |-- maxdepth: float (nullable = true)\n",
      " |-- maxelevation: float (nullable = true)\n",
      " |-- member: string (nullable = true)\n",
      " |-- mindepth: float (nullable = true)\n",
      " |-- minelevation: float (nullable = true)\n",
      " |-- municipality: string (nullable = true)\n",
      " |-- occurrenceid: string (nullable = true)\n",
      " |-- order: string (nullable = true)\n",
      " |-- phylum: string (nullable = true)\n",
      " |-- recordnumber: string (nullable = true)\n",
      " |-- recordset: string (nullable = true)\n",
      " |-- scientificname: string (nullable = true)\n",
      " |-- specificepithet: string (nullable = true)\n",
      " |-- startdayofyear: integer (nullable = true)\n",
      " |-- stateprovince: string (nullable = true)\n",
      " |-- taxonid: string (nullable = true)\n",
      " |-- taxonomicstatus: string (nullable = true)\n",
      " |-- taxonrank: string (nullable = true)\n",
      " |-- typestatus: string (nullable = true)\n",
      " |-- uuid: string (nullable = true)\n",
      " |-- verbatimeventdate: string (nullable = true)\n",
      " |-- verbatimlocality: string (nullable = true)\n",
      " |-- version: integer (nullable = true)\n",
      " |-- waterbody: string (nullable = true)\n",
      "\n"
     ]
    }
   ],
   "source": [
    "idb_df.printSchema()"
   ]
  },
  {
   "cell_type": "markdown",
   "metadata": {},
   "source": [
    "List of the columns that we want to summarize. These are the columns of current interest to the DwC group at the moment. Many columns have unique identifiers, free text, or already normalized vocab so it doesn't make sense to summarize everything for the purpose of trying to do everything at this point and a future more formal data product might.\n"
   ]
  },
  {
   "cell_type": "code",
   "execution_count": 4,
   "metadata": {
    "collapsed": false
   },
   "outputs": [],
   "source": [
    "columns = [\n",
    "        \"recordset\",\n",
    "        \"data.dwc:basisOfRecord\",\n",
    "        \"data.dwc:day\",\n",
    "        \"data.dwc:disposition\",\n",
    "        \"data.dwc:establishmentMeans\",\n",
    "        \"data.dwc:geodeticDatum\",\n",
    "        \"data.dwc:georeferenceVerificationStatus\",\n",
    "        \"data.dwc:identificationQualifier\",\n",
    "        \"data.dwc:identificationVerificationStatus\",\n",
    "\n",
    "        \"data.dwc:lifeStage\",\n",
    "        \"data.dwc:month\",\n",
    "        \"data.dwc:nomenclaturalCode\",\n",
    "        \"data.dwc:nomenclaturalStatus\",\n",
    "        \"data.dwc:occurrenceStatus\",\n",
    "\n",
    "        \"data.dwc:preparations\",\n",
    "        \"data.dwc:reproductiveCondition\",\n",
    "        \"data.dwc:sex\",\n",
    "        \"data.dwc:typeStatus\",\n",
    "        \"data.dwc:taxonRank\",\n",
    "        \"data.dwc:taxonomicStatus\",\n",
    "        \n",
    "        \"data.dwc:behavior\",\n",
    "        \"data.dwc:continent\",\n",
    "        \"data.dwc:country\",\n",
    "        \"data.dwc:countryCode\",\n",
    "        \"data.dwc:island\",\n",
    "        \"data.dwc:islandGroup\",\n",
    "        \"data.dcterms:language\",\n",
    "        \"data.dcterms:license\",\n",
    "        \"data.dwc:verbatimSRS\",\n",
    "        \"data.dwc:waterBody\",\n",
    "    \n",
    "        \"basisofrecord\",\n",
    "        \"typestatus\",\n",
    "        \"taxonrank\",\n",
    "        \"taxonomicstatus\"\n",
    "        \n",
    "        ]"
   ]
  },
  {
   "cell_type": "markdown",
   "metadata": {},
   "source": [
    "We need to transform this dataset from a \"wide\" form to a \"tall\" form and we use the following code to achieve this. You can read more about this type of tidy data transformation, known as \"melt\", here: https://vita.had.co.nz/papers/tidy-data.pdf"
   ]
  },
  {
   "cell_type": "code",
   "execution_count": null,
   "metadata": {
    "collapsed": true
   },
   "outputs": [],
   "source": [
    "# Some fancy code from the internet. Note this transform could also be done \n",
    "# by manually typing out a bunch of unions, one for each column. For columns\n",
    "# with highly repetitious values this is a reasonable all-at-once approach.\n",
    "# For a more general solution, looping over the columns will result in much\n",
    "# smaller data sizes and is more appropriate for a long term data product.\n",
    "\n",
    "from pyspark.sql.functions import array, col, explode, struct, lit\n",
    "\n",
    "\n",
    "def to_long(df, by):\n",
    "\n",
    "    # Filter dtypes and split into column names and type description\n",
    "    cols, dtypes = zip(*((c, t) for (c, t) in df.dtypes if c not in by))\n",
    "    # Spark SQL supports only homogeneous columns\n",
    "    assert len(set(dtypes)) == 1, \"All columns have to be of the same type\"\n",
    "\n",
    "    # Create and explode an array of (column_name, column_value) structs\n",
    "    kvs = explode(array([\n",
    "      struct(lit(c).alias(\"key\"), col(c).alias(\"val\")) for c in cols\n",
    "    ])).alias(\"kvs\")\n",
    "\n",
    "    return df.select(by + [kvs]).select(by + [\"kvs.key\", \"kvs.val\"])\n"
   ]
  },
  {
   "cell_type": "markdown",
   "metadata": {},
   "source": [
    "We can now create a dataframe of key value pairs of our columns and their recordset identifier"
   ]
  },
  {
   "cell_type": "code",
   "execution_count": 6,
   "metadata": {
    "collapsed": false
   },
   "outputs": [
    {
     "data": {
      "text/plain": [
       "[Row(recordset='568e209f-d072-4fd6-8b64-27954b0fd731', key='dwc:basisOfRecord', val='PreservedSpecimen'),\n",
       " Row(recordset='568e209f-d072-4fd6-8b64-27954b0fd731', key='dwc:day', val='1'),\n",
       " Row(recordset='568e209f-d072-4fd6-8b64-27954b0fd731', key='dwc:disposition', val=None),\n",
       " Row(recordset='568e209f-d072-4fd6-8b64-27954b0fd731', key='dwc:establishmentMeans', val=None),\n",
       " Row(recordset='568e209f-d072-4fd6-8b64-27954b0fd731', key='dwc:geodeticDatum', val=None),\n",
       " Row(recordset='568e209f-d072-4fd6-8b64-27954b0fd731', key='dwc:georeferenceVerificationStatus', val=None),\n",
       " Row(recordset='568e209f-d072-4fd6-8b64-27954b0fd731', key='dwc:identificationQualifier', val=None),\n",
       " Row(recordset='568e209f-d072-4fd6-8b64-27954b0fd731', key='dwc:identificationVerificationStatus', val=None),\n",
       " Row(recordset='568e209f-d072-4fd6-8b64-27954b0fd731', key='dwc:lifeStage', val='adult'),\n",
       " Row(recordset='568e209f-d072-4fd6-8b64-27954b0fd731', key='dwc:month', val='2')]"
      ]
     },
     "execution_count": 6,
     "metadata": {},
     "output_type": "execute_result"
    }
   ],
   "source": [
    "k_v_pairs = to_long(idb_df.select(columns), [\"recordset\"])\n",
    "k_v_pairs.head(10)"
   ]
  },
  {
   "cell_type": "markdown",
   "metadata": {},
   "source": [
    "We can get an idea of the size of the data we are looking at by the number of key value pairs that are returned. This number should be close to the number of colums multiplied by the number of rows..."
   ]
  },
  {
   "cell_type": "code",
   "execution_count": 7,
   "metadata": {
    "collapsed": false
   },
   "outputs": [
    {
     "data": {
      "text/plain": [
       "3800724543"
      ]
     },
     "execution_count": 7,
     "metadata": {},
     "output_type": "execute_result"
    }
   ],
   "source": [
    "k_v_pairs.count()"
   ]
  },
  {
   "cell_type": "markdown",
   "metadata": {},
   "source": [
    "If we summarize these pairs by the number of times they occur within each column, we can then use this unique value dataframe for further analysis. "
   ]
  },
  {
   "cell_type": "code",
   "execution_count": 8,
   "metadata": {
    "collapsed": false
   },
   "outputs": [
    {
     "data": {
      "text/plain": [
       "[Row(recordset='7450a9e3-ef95-4f9e-8260-09b498d2c5e6', key='dwc:country', val='Cuba', count=5574),\n",
       " Row(recordset='c4bb08d4-c310-4879-abee-1b3986e8e0ca', key='dwc:day', val='4', count=8879),\n",
       " Row(recordset='91c5eec8-0cdc-4be2-9a99-a15ae5ec3edc', key='dwc:basisOfRecord', val='PreservedSpecimen', count=66480),\n",
       " Row(recordset='71b8ffab-444e-43f9-9a9c-5c42b0eaa5eb', key='dwc:nomenclaturalCode', val='ICZN', count=78978),\n",
       " Row(recordset='78ee1a12-9e8a-4d9c-84de-e2dfce4e1447', key='dwc:day', val='9', count=1749),\n",
       " Row(recordset='92e4e092-6dcb-46bc-85a0-dea8310aba45', key='taxonomicstatus', val='doubtful', count=1713),\n",
       " Row(recordset='271a9ce9-c6d3-4b63-a722-cb0adc48863f', key='dwc:sex', val='male', count=224739),\n",
       " Row(recordset='d7b285d4-2643-45ee-9302-b0c3d51dda5c', key='dwc:day', val='8', count=9132),\n",
       " Row(recordset='8dc14464-57b3-423e-8cb0-950ab8f36b6f', key='basisofrecord', val='preservedspecimen', count=37465),\n",
       " Row(recordset='1c8d18f4-5af2-4d86-98d2-8a5ed06456e2', key='dwc:basisOfRecord', val='FossilSpecimen', count=11877)]"
      ]
     },
     "execution_count": 8,
     "metadata": {},
     "output_type": "execute_result"
    }
   ],
   "source": [
    "index = (k_v_pairs\n",
    "         .groupBy(k_v_pairs.recordset, k_v_pairs.key, k_v_pairs.val)\n",
    "         .count()\n",
    "         )\n",
    "index.head(10)"
   ]
  },
  {
   "cell_type": "code",
   "execution_count": 11,
   "metadata": {
    "collapsed": false
   },
   "outputs": [
    {
     "data": {
      "text/plain": [
       "1206331"
      ]
     },
     "execution_count": 11,
     "metadata": {},
     "output_type": "execute_result"
    }
   ],
   "source": [
    "index.count()"
   ]
  },
  {
   "cell_type": "markdown",
   "metadata": {},
   "source": [
    "We can now reduce this entire dataset down to the elements we are most interested in, paleontology collections. Using the iDigBio U.S. Collections catalog, we can get a comma separated list of paleo recordset UUIDs:"
   ]
  },
  {
   "cell_type": "code",
   "execution_count": 16,
   "metadata": {
    "collapsed": true
   },
   "outputs": [],
   "source": [
    "paleoRecordsets = [\n",
    "\"6c6f34ed-58a4-4ba2-b9c7-34524f79a349\",\n",
    "\"137ed4cd-5172-45a5-acdb-8e1de9a64e32\",\n",
    "\"5ab348ab-439a-4697-925c-d6abe0c09b92\",\n",
    "\"f9a33279-d6ba-41c7-a511-ef6adfcb6e20\",\n",
    "\"95ecb448-3c1f-4145-8565-4f6d51beb62c\", \n",
    "\"271a9ce9-c6d3-4b63-a722-cb0adc48863f\",\n",
    "\"1ba0bbad-28a7-4c50-8992-a028f79d1dc5\",\n",
    "\"62c310ac-e1ff-47bc-860d-0471a84ed0d3\",\n",
    "\"271a9ce9-c6d3-4b63-a722-cb0adc48863f\",\n",
    "\"b1f0612a-bc21-424f-b9c1-3bba69ad4f54\",\n",
    "\"7b0809fb-fd62-4733-8f40-74ceb04cbcac\",\n",
    "\"7ae4d15d-62e2-459b-842a-446f921b9d3f\",\n",
    "\"1ebb0c8e-31f2-4564-b75d-65196bee4f09\",\n",
    "\"71b8ffab-444e-43f9-9a9c-5c42b0eaa5eb\",\n",
    "\"d621e959-2633-4ec1-a2a2-5d97cd818b47\",\n",
    "\"0220907a-0463-4ae0-8a0b-77f5e80fff40\",\n",
    "\"84c24d87-e4ad-4165-8e86-5ae1a249c196\",\n",
    "\"b26fa674-6300-4ea0-a8e3-fc0ce32b5226\",\n",
    "\"41b119de-f745-482d-be42-a0155bc76e5d\",\n",
    "\"0e162e0a-bf3e-4710-9357-44258ca12abb\",\n",
    "\"667c2736-bcd3-4a6a-abf4-db5d2dc815c4\",\n",
    "\"2ec3b31e-c86b-4ce9-b265-77c8c3f9643c\",\n",
    "\"81316846-80cb-4913-8941-b31537761eb0\", \n",
    "\"1c8d18f4-5af2-4d86-98d2-8a5ed06456e2\", \n",
    "\"7c2c5cdc-80e6-49d5-8e95-08fc7da0a370\",\n",
    "\"db3181c9-48dd-489f-96ab-a5888f5a938c\", \n",
    "\"4dfb5828-3653-4604-ac00-db1e1da98b02\", \n",
    "\"7757c07f-18fd-45c2-84cc-60bd3742e100\",\n",
    "\"b7a79601-c07b-46d5-bd09-d4472b0d9431\",\n",
    "\"9e66257f-21a9-491a-ac23-06b7b62ceeb7\",\n",
    "\"d11f19ae-e946-4a0e-83e5-2052ae8cca62\",\n",
    "\"ba77d411-4179-4dbd-b6c1-39b8a71ae795\",\n",
    "\"e27f0218-47e0-41bc-9086-9d9169096e90\",\n",
    "\"879d475f-4b76-4d18-8cf6-a7e5a6d44926\",\n",
    "\"a2beb85e-f2b8-4366-8b3b-e5c5cc117aaf\",\n",
    "\"2c2cc29c-3572-4568-a129-c8cbec34ccbe\",\n",
    "\"a2a7754b-2346-496d-b681-eb754ef32b9e\",\n",
    "\"0d05a365-36e8-4150-a350-23ed33f79b17\",\n",
    "\"5082e6c8-8f5b-4bf6-a930-e3e6de7bf6fb\",\n",
    "\"bf049384-ffe2-4418-a1a3-fc5552ba850f\"\n",
    "]"
   ]
  },
  {
   "cell_type": "code",
   "execution_count": 17,
   "metadata": {
    "collapsed": false
   },
   "outputs": [
    {
     "data": {
      "text/plain": [
       "[Row(recordset='71b8ffab-444e-43f9-9a9c-5c42b0eaa5eb', key='dwc:nomenclaturalCode', val='ICZN', count=78978),\n",
       " Row(recordset='271a9ce9-c6d3-4b63-a722-cb0adc48863f', key='dwc:sex', val='male', count=224739),\n",
       " Row(recordset='1c8d18f4-5af2-4d86-98d2-8a5ed06456e2', key='dwc:basisOfRecord', val='FossilSpecimen', count=11877),\n",
       " Row(recordset='81316846-80cb-4913-8941-b31537761eb0', key='taxonrank', val='species', count=8752),\n",
       " Row(recordset='271a9ce9-c6d3-4b63-a722-cb0adc48863f', key='dwc:country', val='Jordan', count=334),\n",
       " Row(recordset='271a9ce9-c6d3-4b63-a722-cb0adc48863f', key='typestatus', val='holotype of diadema affine', count=1),\n",
       " Row(recordset='271a9ce9-c6d3-4b63-a722-cb0adc48863f', key='dwc:typeStatus', val='Voucher of Clavilithes scalaris', count=16),\n",
       " Row(recordset='271a9ce9-c6d3-4b63-a722-cb0adc48863f', key='dwc:typeStatus', val='Syntype of Caranx secundus| Syntype of Caranx secundus', count=2),\n",
       " Row(recordset='271a9ce9-c6d3-4b63-a722-cb0adc48863f', key='typestatus', val='syntype of azteca brevis', count=1),\n",
       " Row(recordset='5ab348ab-439a-4697-925c-d6abe0c09b92', key='dwc:preparations', val='Crab claw', count=62)]"
      ]
     },
     "execution_count": 17,
     "metadata": {},
     "output_type": "execute_result"
    }
   ],
   "source": [
    "paleo = index[index['recordset'].isin(paleoRecordsets)]\n",
    "paleo.head(10)"
   ]
  },
  {
   "cell_type": "code",
   "execution_count": 18,
   "metadata": {
    "collapsed": false
   },
   "outputs": [
    {
     "data": {
      "text/plain": [
       "186790"
      ]
     },
     "execution_count": 18,
     "metadata": {},
     "output_type": "execute_result"
    }
   ],
   "source": [
    "paleo.count()"
   ]
  },
  {
   "cell_type": "code",
   "execution_count": 20,
   "metadata": {
    "collapsed": false
   },
   "outputs": [],
   "source": [
    "(paleo\n",
    " .write\n",
    " .parquet(\"/home/kevinlove/paleo/outputs/paleo-values-20182811.parquet\")\n",
    ")"
   ]
  },
  {
   "cell_type": "code",
   "execution_count": 24,
   "metadata": {
    "collapsed": false
   },
   "outputs": [],
   "source": [
    "(paleo\n",
    " .write\n",
    " .format(\"com.databricks.spark.csv\")\n",
    " .option(\"header\", \"false\")\n",
    " .save(\"/home/kevinlove/paleo/outputs/paleo-value-20182811.csv\")\n",
    ")"
   ]
  },
  {
   "cell_type": "markdown",
   "metadata": {},
   "source": [
    "We can continue to work with these data here or access them via the filesystem by saving a copy locally"
   ]
  },
  {
   "cell_type": "code",
   "execution_count": 25,
   "metadata": {
    "collapsed": false
   },
   "outputs": [
    {
     "data": {
      "text/plain": [
       "'/home/kevinlove/paleo/outputs/paleo-values-20182811'"
      ]
     },
     "execution_count": 25,
     "metadata": {},
     "output_type": "execute_result"
    }
   ],
   "source": [
    "from hdfs import InsecureClient\n",
    "client = InsecureClient('http://mesos01.acis.ufl.edu:50070/', user='kevinlove')\n",
    "client.download('/home/kevinlove/paleo/outputs/paleo-value-20182811.csv', '/home/kevinlove/paleo/outputs/paleo-values-20182811', n_threads=5)"
   ]
  }
 ],
 "metadata": {
  "celltoolbar": "Raw Cell Format",
  "kernelspec": {
   "display_name": "3 - PySpark Python3 Medium",
   "language": "python",
   "name": "pyspark3-med"
  },
  "language_info": {
   "codemirror_mode": {
    "name": "ipython",
    "version": 3
   },
   "file_extension": ".py",
   "mimetype": "text/x-python",
   "name": "python",
   "nbconvert_exporter": "python",
   "pygments_lexer": "ipython3",
   "version": "3.5.2"
  }
 },
 "nbformat": 4,
 "nbformat_minor": 1
}
