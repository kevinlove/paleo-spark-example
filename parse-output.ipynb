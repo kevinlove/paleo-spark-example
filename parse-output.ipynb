{
 "cells": [
  {
   "cell_type": "markdown",
   "metadata": {},
   "source": [
    "Read in output csv and build summary dataframe from results"
   ]
  },
  {
   "cell_type": "code",
   "execution_count": 3,
   "metadata": {
    "collapsed": false
   },
   "outputs": [],
   "source": [
    "filez <- list.files(\"/home/kevinlove/paleo/outputs/paleo-values-20182811/\")\n",
    "## Clean up the directory\n",
    "filez <- filez[!filez==\"_SUCCESS\"]"
   ]
  },
  {
   "cell_type": "code",
   "execution_count": 4,
   "metadata": {
    "collapsed": false
   },
   "outputs": [
    {
     "data": {
      "text/html": [
       "<table>\n",
       "<thead><tr><th scope=col>V1</th><th scope=col>V2</th><th scope=col>V3</th><th scope=col>V4</th></tr></thead>\n",
       "<tbody>\n",
       "\t<tr><td>71b8ffab-444e-43f9-9a9c-5c42b0eaa5eb</td><td>dwc:nomenclaturalCode               </td><td>ICZN                                </td><td>78978                               </td></tr>\n",
       "\t<tr><td>1c8d18f4-5af2-4d86-98d2-8a5ed06456e2</td><td>dwc:basisOfRecord                   </td><td>FossilSpecimen                      </td><td>11877                               </td></tr>\n",
       "\t<tr><td>81316846-80cb-4913-8941-b31537761eb0</td><td>taxonrank                           </td><td>species                             </td><td>8752                                </td></tr>\n",
       "\t<tr><td>5ab348ab-439a-4697-925c-d6abe0c09b92</td><td>dwc:preparations                    </td><td>R ANGULAR                           </td><td>11                                  </td></tr>\n",
       "\t<tr><td>271a9ce9-c6d3-4b63-a722-cb0adc48863f</td><td>dwc:sex                             </td><td>male                                </td><td>224739                              </td></tr>\n",
       "\t<tr><td>71b8ffab-444e-43f9-9a9c-5c42b0eaa5eb</td><td>dwc:country                         </td><td>Colombia                            </td><td>76                                  </td></tr>\n",
       "</tbody>\n",
       "</table>\n"
      ],
      "text/latex": [
       "\\begin{tabular}{r|llll}\n",
       " V1 & V2 & V3 & V4\\\\\n",
       "\\hline\n",
       "\t 71b8ffab-444e-43f9-9a9c-5c42b0eaa5eb & dwc:nomenclaturalCode                & ICZN                                 & 78978                               \\\\\n",
       "\t 1c8d18f4-5af2-4d86-98d2-8a5ed06456e2 & dwc:basisOfRecord                    & FossilSpecimen                       & 11877                               \\\\\n",
       "\t 81316846-80cb-4913-8941-b31537761eb0 & taxonrank                            & species                              & 8752                                \\\\\n",
       "\t 5ab348ab-439a-4697-925c-d6abe0c09b92 & dwc:preparations                     & R ANGULAR                            & 11                                  \\\\\n",
       "\t 271a9ce9-c6d3-4b63-a722-cb0adc48863f & dwc:sex                              & male                                 & 224739                              \\\\\n",
       "\t 71b8ffab-444e-43f9-9a9c-5c42b0eaa5eb & dwc:country                          & Colombia                             & 76                                  \\\\\n",
       "\\end{tabular}\n"
      ],
      "text/markdown": [
       "\n",
       "V1 | V2 | V3 | V4 | \n",
       "|---|---|---|---|---|---|\n",
       "| 71b8ffab-444e-43f9-9a9c-5c42b0eaa5eb | dwc:nomenclaturalCode                | ICZN                                 | 78978                                | \n",
       "| 1c8d18f4-5af2-4d86-98d2-8a5ed06456e2 | dwc:basisOfRecord                    | FossilSpecimen                       | 11877                                | \n",
       "| 81316846-80cb-4913-8941-b31537761eb0 | taxonrank                            | species                              | 8752                                 | \n",
       "| 5ab348ab-439a-4697-925c-d6abe0c09b92 | dwc:preparations                     | R ANGULAR                            | 11                                   | \n",
       "| 271a9ce9-c6d3-4b63-a722-cb0adc48863f | dwc:sex                              | male                                 | 224739                               | \n",
       "| 71b8ffab-444e-43f9-9a9c-5c42b0eaa5eb | dwc:country                          | Colombia                             | 76                                   | \n",
       "\n",
       "\n"
      ],
      "text/plain": [
       "  V1                                   V2                    V3            \n",
       "1 71b8ffab-444e-43f9-9a9c-5c42b0eaa5eb dwc:nomenclaturalCode ICZN          \n",
       "2 1c8d18f4-5af2-4d86-98d2-8a5ed06456e2 dwc:basisOfRecord     FossilSpecimen\n",
       "3 81316846-80cb-4913-8941-b31537761eb0 taxonrank             species       \n",
       "4 5ab348ab-439a-4697-925c-d6abe0c09b92 dwc:preparations      R ANGULAR     \n",
       "5 271a9ce9-c6d3-4b63-a722-cb0adc48863f dwc:sex               male          \n",
       "6 71b8ffab-444e-43f9-9a9c-5c42b0eaa5eb dwc:country           Colombia      \n",
       "  V4    \n",
       "1 78978 \n",
       "2 11877 \n",
       "3 8752  \n",
       "4 11    \n",
       "5 224739\n",
       "6 76    "
      ]
     },
     "metadata": {},
     "output_type": "display_data"
    }
   ],
   "source": [
    "df <- data.frame()\n",
    "for (i in seq_along(filez)){\n",
    "    \n",
    "    nlines <- readLines(paste0(\"/home/kevinlove/paleo/outputs/paleo-values-20182811/\",filez[i]))\n",
    "    if(length(nlines)==0){next}\n",
    "    tmpDF <- data.frame()\n",
    "        for (ii in 1:length(nlines)){\n",
    "        tdf <- read.csv(paste0(\"/home/kevinlove/paleo/outputs/paleo-values-20182811/\",filez[i]),stringsAsFactors = F,header = F,nrows = 1,skip = ii-1)\n",
    "        tdf <- tdf[1:4]\n",
    "        ##Subset by values we are looking for\n",
    "        #tdf <- tdf[grepl(paste(toMatch,collapse=\"|\"), tdf$V3),]    \n",
    "        tmpDF <-rbind(tmpDF,tdf)\n",
    "        }\n",
    "    df <- rbind(df,tmpDF)\n",
    "}\n",
    "head(df)"
   ]
  },
  {
   "cell_type": "code",
   "execution_count": 6,
   "metadata": {
    "collapsed": false
   },
   "outputs": [
    {
     "data": {
      "text/html": [
       "<ol class=list-inline>\n",
       "\t<li>'dwc:nomenclaturalCode'</li>\n",
       "\t<li>'dwc:basisOfRecord'</li>\n",
       "\t<li>'taxonrank'</li>\n",
       "\t<li>'dwc:preparations'</li>\n",
       "\t<li>'dwc:sex'</li>\n",
       "\t<li>'dwc:country'</li>\n",
       "\t<li>'dwc:countryCode'</li>\n",
       "\t<li>'dwc:typeStatus'</li>\n",
       "\t<li>'typestatus'</li>\n",
       "\t<li>'dwc:geodeticDatum'</li>\n",
       "\t<li>'dwc:island'</li>\n",
       "\t<li>'dwc:reproductiveCondition'</li>\n",
       "\t<li>'dwc:continent'</li>\n",
       "\t<li>'dwc:disposition'</li>\n",
       "\t<li>'dwc:identificationQualifier'</li>\n",
       "\t<li>'dwc:georeferenceVerificationStatus'</li>\n",
       "\t<li>'dwc:taxonRank'</li>\n",
       "\t<li>'dwc:taxonomicStatus'</li>\n",
       "\t<li>'dwc:islandGroup'</li>\n",
       "\t<li>'dwc:waterBody'</li>\n",
       "\t<li>'dwc:day'</li>\n",
       "\t<li>'dwc:month'</li>\n",
       "\t<li>'taxonomicstatus'</li>\n",
       "\t<li>'dwc:occurrenceStatus'</li>\n",
       "\t<li>'dwc:establishmentMeans'</li>\n",
       "\t<li>'basisofrecord'</li>\n",
       "\t<li>'dwc:lifeStage'</li>\n",
       "\t<li>'dwc:nomenclaturalStatus'</li>\n",
       "\t<li>'dcterms:language'</li>\n",
       "\t<li>'dwc:identificationVerificationStatus'</li>\n",
       "\t<li>'dwc:verbatimSRS'</li>\n",
       "\t<li>'dwc:behavior'</li>\n",
       "\t<li>'dcterms:license'</li>\n",
       "</ol>\n"
      ],
      "text/latex": [
       "\\begin{enumerate*}\n",
       "\\item 'dwc:nomenclaturalCode'\n",
       "\\item 'dwc:basisOfRecord'\n",
       "\\item 'taxonrank'\n",
       "\\item 'dwc:preparations'\n",
       "\\item 'dwc:sex'\n",
       "\\item 'dwc:country'\n",
       "\\item 'dwc:countryCode'\n",
       "\\item 'dwc:typeStatus'\n",
       "\\item 'typestatus'\n",
       "\\item 'dwc:geodeticDatum'\n",
       "\\item 'dwc:island'\n",
       "\\item 'dwc:reproductiveCondition'\n",
       "\\item 'dwc:continent'\n",
       "\\item 'dwc:disposition'\n",
       "\\item 'dwc:identificationQualifier'\n",
       "\\item 'dwc:georeferenceVerificationStatus'\n",
       "\\item 'dwc:taxonRank'\n",
       "\\item 'dwc:taxonomicStatus'\n",
       "\\item 'dwc:islandGroup'\n",
       "\\item 'dwc:waterBody'\n",
       "\\item 'dwc:day'\n",
       "\\item 'dwc:month'\n",
       "\\item 'taxonomicstatus'\n",
       "\\item 'dwc:occurrenceStatus'\n",
       "\\item 'dwc:establishmentMeans'\n",
       "\\item 'basisofrecord'\n",
       "\\item 'dwc:lifeStage'\n",
       "\\item 'dwc:nomenclaturalStatus'\n",
       "\\item 'dcterms:language'\n",
       "\\item 'dwc:identificationVerificationStatus'\n",
       "\\item 'dwc:verbatimSRS'\n",
       "\\item 'dwc:behavior'\n",
       "\\item 'dcterms:license'\n",
       "\\end{enumerate*}\n"
      ],
      "text/markdown": [
       "1. 'dwc:nomenclaturalCode'\n",
       "2. 'dwc:basisOfRecord'\n",
       "3. 'taxonrank'\n",
       "4. 'dwc:preparations'\n",
       "5. 'dwc:sex'\n",
       "6. 'dwc:country'\n",
       "7. 'dwc:countryCode'\n",
       "8. 'dwc:typeStatus'\n",
       "9. 'typestatus'\n",
       "10. 'dwc:geodeticDatum'\n",
       "11. 'dwc:island'\n",
       "12. 'dwc:reproductiveCondition'\n",
       "13. 'dwc:continent'\n",
       "14. 'dwc:disposition'\n",
       "15. 'dwc:identificationQualifier'\n",
       "16. 'dwc:georeferenceVerificationStatus'\n",
       "17. 'dwc:taxonRank'\n",
       "18. 'dwc:taxonomicStatus'\n",
       "19. 'dwc:islandGroup'\n",
       "20. 'dwc:waterBody'\n",
       "21. 'dwc:day'\n",
       "22. 'dwc:month'\n",
       "23. 'taxonomicstatus'\n",
       "24. 'dwc:occurrenceStatus'\n",
       "25. 'dwc:establishmentMeans'\n",
       "26. 'basisofrecord'\n",
       "27. 'dwc:lifeStage'\n",
       "28. 'dwc:nomenclaturalStatus'\n",
       "29. 'dcterms:language'\n",
       "30. 'dwc:identificationVerificationStatus'\n",
       "31. 'dwc:verbatimSRS'\n",
       "32. 'dwc:behavior'\n",
       "33. 'dcterms:license'\n",
       "\n",
       "\n"
      ],
      "text/plain": [
       " [1] \"dwc:nomenclaturalCode\"               \n",
       " [2] \"dwc:basisOfRecord\"                   \n",
       " [3] \"taxonrank\"                           \n",
       " [4] \"dwc:preparations\"                    \n",
       " [5] \"dwc:sex\"                             \n",
       " [6] \"dwc:country\"                         \n",
       " [7] \"dwc:countryCode\"                     \n",
       " [8] \"dwc:typeStatus\"                      \n",
       " [9] \"typestatus\"                          \n",
       "[10] \"dwc:geodeticDatum\"                   \n",
       "[11] \"dwc:island\"                          \n",
       "[12] \"dwc:reproductiveCondition\"           \n",
       "[13] \"dwc:continent\"                       \n",
       "[14] \"dwc:disposition\"                     \n",
       "[15] \"dwc:identificationQualifier\"         \n",
       "[16] \"dwc:georeferenceVerificationStatus\"  \n",
       "[17] \"dwc:taxonRank\"                       \n",
       "[18] \"dwc:taxonomicStatus\"                 \n",
       "[19] \"dwc:islandGroup\"                     \n",
       "[20] \"dwc:waterBody\"                       \n",
       "[21] \"dwc:day\"                             \n",
       "[22] \"dwc:month\"                           \n",
       "[23] \"taxonomicstatus\"                     \n",
       "[24] \"dwc:occurrenceStatus\"                \n",
       "[25] \"dwc:establishmentMeans\"              \n",
       "[26] \"basisofrecord\"                       \n",
       "[27] \"dwc:lifeStage\"                       \n",
       "[28] \"dwc:nomenclaturalStatus\"             \n",
       "[29] \"dcterms:language\"                    \n",
       "[30] \"dwc:identificationVerificationStatus\"\n",
       "[31] \"dwc:verbatimSRS\"                     \n",
       "[32] \"dwc:behavior\"                        \n",
       "[33] \"dcterms:license\"                     "
      ]
     },
     "metadata": {},
     "output_type": "display_data"
    }
   ],
   "source": [
    "ff <- unique(df$V2)\n",
    "ff"
   ]
  },
  {
   "cell_type": "code",
   "execution_count": 28,
   "metadata": {
    "collapsed": false
   },
   "outputs": [
    {
     "name": "stderr",
     "output_type": "stream",
     "text": [
      "Warning message in data.frame(fieldname = udf$V3, reps = as.numeric(udf$V4), stringsAsFactors = F):\n",
      "\"NAs introduced by coercion\"Warning message in data.frame(fieldname = udf$V3, reps = as.numeric(udf$V4), stringsAsFactors = F):\n",
      "\"NAs introduced by coercion\""
     ]
    }
   ],
   "source": [
    "for (iii in 1:length(ff)){\n",
    "        udf <- df[df$V2==ff[iii],]\n",
    "        fieldName <- if(sub('.', '',sub(\"^[^:]*\", \"\", ff[iii]))>0){sub('.', '',sub(\"^[^:]*\", \"\", ff[iii]))}else{paste0(\"index.\",ff[iii])}\n",
    "        termDF <- data.frame(fieldname=udf$V3,reps=as.numeric(udf$V4),stringsAsFactors = F)\n",
    "        if(length(termDF[is.na(termDF$fieldname),]$fieldname)>0){termDF[is.na(termDF$fieldname),]$fieldname<- \"\"} \n",
    "        termDF <- aggregate(reps ~ fieldname + reps, data = termDF, sum)\n",
    "        names(termDF) <- c(fieldName,\"reps\")\n",
    "        termDF <- termDF[order(termDF$reps,decreasing = T,na.last = NA),]\n",
    "        fileName <- paste0(\"/home/kevinlove/paleo/outputs/paleo-idigbioDistinctValues/20182811/iDigBio_distinct_\",fieldName,\"_\",format(Sys.Date(), \"%d-%m-%y\"),\".csv\")\n",
    "        write.csv(termDF,file = fileName,row.names = F)\n",
    "}"
   ]
  },
  {
   "cell_type": "code",
   "execution_count": 27,
   "metadata": {
    "collapsed": false
   },
   "outputs": [
    {
     "data": {
      "text/html": [
       "0"
      ],
      "text/latex": [
       "0"
      ],
      "text/markdown": [
       "0"
      ],
      "text/plain": [
       "[1] 0"
      ]
     },
     "metadata": {},
     "output_type": "display_data"
    }
   ],
   "source": []
  },
  {
   "cell_type": "code",
   "execution_count": null,
   "metadata": {
    "collapsed": false
   },
   "outputs": [],
   "source": []
  },
  {
   "cell_type": "code",
   "execution_count": null,
   "metadata": {
    "collapsed": false
   },
   "outputs": [],
   "source": []
  },
  {
   "cell_type": "code",
   "execution_count": null,
   "metadata": {
    "collapsed": false
   },
   "outputs": [],
   "source": []
  }
 ],
 "metadata": {
  "kernelspec": {
   "display_name": "R",
   "language": "R",
   "name": "ir"
  },
  "language_info": {
   "codemirror_mode": "r",
   "file_extension": ".r",
   "mimetype": "text/x-r-source",
   "name": "R",
   "pygments_lexer": "r",
   "version": "3.4.0"
  }
 },
 "nbformat": 4,
 "nbformat_minor": 1
}
