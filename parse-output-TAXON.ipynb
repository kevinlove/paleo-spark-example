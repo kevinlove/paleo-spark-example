{
 "cells": [
  {
   "cell_type": "markdown",
   "metadata": {},
   "source": [
    "Read in output csv and build summary dataframe from results"
   ]
  },
  {
   "cell_type": "code",
   "execution_count": 1,
   "metadata": {
    "collapsed": false
   },
   "outputs": [],
   "source": [
    "filez <- list.files(\"/home/kevinlove/paleo/outputs/paleo-TAXON-values-20182811/\")\n",
    "## Clean up the directory\n",
    "filez <- filez[!filez==\"_SUCCESS\"]"
   ]
  },
  {
   "cell_type": "code",
   "execution_count": 3,
   "metadata": {
    "collapsed": false
   },
   "outputs": [
    {
     "name": "stderr",
     "output_type": "stream",
     "text": [
      "Warning message in read.table(file = file, header = header, sep = sep, quote = quote, :\n",
      "\"incomplete final line found by readTableHeader on '/home/kevinlove/paleo/outputs/paleo-TAXON-values-20182811/part-00095-e86c6f13-2fad-4d4e-bb9f-b0ce49b9c1f5-c000.csv'\""
     ]
    },
    {
     "data": {
      "text/html": [
       "<table>\n",
       "<thead><tr><th scope=col>V1</th><th scope=col>V2</th><th scope=col>V3</th><th scope=col>V4</th></tr></thead>\n",
       "<tbody>\n",
       "\t<tr><td>137ed4cd-5172-45a5-acdb-8e1de9a64e32</td><td>scientificname                      </td><td>spirifer alatus                     </td><td>47                                  </td></tr>\n",
       "\t<tr><td>5ab348ab-439a-4697-925c-d6abe0c09b92</td><td>dwc:class                           </td><td>Reptilia                            </td><td>44078                               </td></tr>\n",
       "\t<tr><td>81316846-80cb-4913-8941-b31537761eb0</td><td>taxonrank                           </td><td>species                             </td><td>8752                                </td></tr>\n",
       "\t<tr><td>5ab348ab-439a-4697-925c-d6abe0c09b92</td><td>dwc:order                           </td><td>Mesosauria                          </td><td>11                                  </td></tr>\n",
       "\t<tr><td>5ab348ab-439a-4697-925c-d6abe0c09b92</td><td>dwc:scientificName                  </td><td>Prolagus oeningensis                </td><td>10                                  </td></tr>\n",
       "\t<tr><td>95ecb448-3c1f-4145-8565-4f6d51beb62c</td><td>dwc:scientificName                  </td><td>Juresania?                          </td><td>91                                  </td></tr>\n",
       "</tbody>\n",
       "</table>\n"
      ],
      "text/latex": [
       "\\begin{tabular}{r|llll}\n",
       " V1 & V2 & V3 & V4\\\\\n",
       "\\hline\n",
       "\t 137ed4cd-5172-45a5-acdb-8e1de9a64e32 & scientificname                       & spirifer alatus                      & 47                                  \\\\\n",
       "\t 5ab348ab-439a-4697-925c-d6abe0c09b92 & dwc:class                            & Reptilia                             & 44078                               \\\\\n",
       "\t 81316846-80cb-4913-8941-b31537761eb0 & taxonrank                            & species                              & 8752                                \\\\\n",
       "\t 5ab348ab-439a-4697-925c-d6abe0c09b92 & dwc:order                            & Mesosauria                           & 11                                  \\\\\n",
       "\t 5ab348ab-439a-4697-925c-d6abe0c09b92 & dwc:scientificName                   & Prolagus oeningensis                 & 10                                  \\\\\n",
       "\t 95ecb448-3c1f-4145-8565-4f6d51beb62c & dwc:scientificName                   & Juresania?                           & 91                                  \\\\\n",
       "\\end{tabular}\n"
      ],
      "text/markdown": [
       "\n",
       "V1 | V2 | V3 | V4 | \n",
       "|---|---|---|---|---|---|\n",
       "| 137ed4cd-5172-45a5-acdb-8e1de9a64e32 | scientificname                       | spirifer alatus                      | 47                                   | \n",
       "| 5ab348ab-439a-4697-925c-d6abe0c09b92 | dwc:class                            | Reptilia                             | 44078                                | \n",
       "| 81316846-80cb-4913-8941-b31537761eb0 | taxonrank                            | species                              | 8752                                 | \n",
       "| 5ab348ab-439a-4697-925c-d6abe0c09b92 | dwc:order                            | Mesosauria                           | 11                                   | \n",
       "| 5ab348ab-439a-4697-925c-d6abe0c09b92 | dwc:scientificName                   | Prolagus oeningensis                 | 10                                   | \n",
       "| 95ecb448-3c1f-4145-8565-4f6d51beb62c | dwc:scientificName                   | Juresania?                           | 91                                   | \n",
       "\n",
       "\n"
      ],
      "text/plain": [
       "  V1                                   V2                 V3                  \n",
       "1 137ed4cd-5172-45a5-acdb-8e1de9a64e32 scientificname     spirifer alatus     \n",
       "2 5ab348ab-439a-4697-925c-d6abe0c09b92 dwc:class          Reptilia            \n",
       "3 81316846-80cb-4913-8941-b31537761eb0 taxonrank          species             \n",
       "4 5ab348ab-439a-4697-925c-d6abe0c09b92 dwc:order          Mesosauria          \n",
       "5 5ab348ab-439a-4697-925c-d6abe0c09b92 dwc:scientificName Prolagus oeningensis\n",
       "6 95ecb448-3c1f-4145-8565-4f6d51beb62c dwc:scientificName Juresania?          \n",
       "  V4   \n",
       "1 47   \n",
       "2 44078\n",
       "3 8752 \n",
       "4 11   \n",
       "5 10   \n",
       "6 91   "
      ]
     },
     "metadata": {},
     "output_type": "display_data"
    }
   ],
   "source": [
    "df <- data.frame()\n",
    "for (i in seq_along(filez)){\n",
    "    \n",
    "    nlines <- readLines(paste0(\"/home/kevinlove/paleo/outputs/paleo-TAXON-values-20182811/\",filez[i]))\n",
    "    if(length(nlines)==0){next}\n",
    "    tmpDF <- data.frame()\n",
    "        for (ii in 1:length(nlines)){\n",
    "        tdf <- read.csv(paste0(\"/home/kevinlove/paleo/outputs/paleo-TAXON-values-20182811/\",filez[i]),stringsAsFactors = F,header = F,nrows = 1,skip = ii-1)\n",
    "        tdf <- tdf[1:4]\n",
    "        ##Subset by values we are looking for\n",
    "        #tdf <- tdf[grepl(paste(toMatch,collapse=\"|\"), tdf$V3),]    \n",
    "        tmpDF <-rbind(tmpDF,tdf)\n",
    "        }\n",
    "    df <- rbind(df,tmpDF)\n",
    "}\n",
    "head(df)"
   ]
  },
  {
   "cell_type": "code",
   "execution_count": 5,
   "metadata": {
    "collapsed": false
   },
   "outputs": [
    {
     "data": {
      "text/html": [
       "<ol class=list-inline>\n",
       "\t<li>'scientificname'</li>\n",
       "\t<li>'dwc:class'</li>\n",
       "\t<li>'taxonrank'</li>\n",
       "\t<li>'dwc:order'</li>\n",
       "\t<li>'dwc:scientificName'</li>\n",
       "\t<li>'family'</li>\n",
       "\t<li>'dwc:genus'</li>\n",
       "\t<li>'dwc:family'</li>\n",
       "\t<li>'dwc:identifiedBy'</li>\n",
       "\t<li>'dwc:specificEpithet'</li>\n",
       "\t<li>'specificepithet'</li>\n",
       "\t<li>'genus'</li>\n",
       "\t<li>'order'</li>\n",
       "\t<li>'dwc:phylum'</li>\n",
       "\t<li>'dwc:scientificNameAuthorship'</li>\n",
       "\t<li>'typestatus'</li>\n",
       "\t<li>'dwc:typeStatus'</li>\n",
       "\t<li>'class'</li>\n",
       "\t<li>'phylum'</li>\n",
       "\t<li>'kingdom'</li>\n",
       "\t<li>'dwc:taxonRank'</li>\n",
       "\t<li>'dwc:kingdom'</li>\n",
       "</ol>\n"
      ],
      "text/latex": [
       "\\begin{enumerate*}\n",
       "\\item 'scientificname'\n",
       "\\item 'dwc:class'\n",
       "\\item 'taxonrank'\n",
       "\\item 'dwc:order'\n",
       "\\item 'dwc:scientificName'\n",
       "\\item 'family'\n",
       "\\item 'dwc:genus'\n",
       "\\item 'dwc:family'\n",
       "\\item 'dwc:identifiedBy'\n",
       "\\item 'dwc:specificEpithet'\n",
       "\\item 'specificepithet'\n",
       "\\item 'genus'\n",
       "\\item 'order'\n",
       "\\item 'dwc:phylum'\n",
       "\\item 'dwc:scientificNameAuthorship'\n",
       "\\item 'typestatus'\n",
       "\\item 'dwc:typeStatus'\n",
       "\\item 'class'\n",
       "\\item 'phylum'\n",
       "\\item 'kingdom'\n",
       "\\item 'dwc:taxonRank'\n",
       "\\item 'dwc:kingdom'\n",
       "\\end{enumerate*}\n"
      ],
      "text/markdown": [
       "1. 'scientificname'\n",
       "2. 'dwc:class'\n",
       "3. 'taxonrank'\n",
       "4. 'dwc:order'\n",
       "5. 'dwc:scientificName'\n",
       "6. 'family'\n",
       "7. 'dwc:genus'\n",
       "8. 'dwc:family'\n",
       "9. 'dwc:identifiedBy'\n",
       "10. 'dwc:specificEpithet'\n",
       "11. 'specificepithet'\n",
       "12. 'genus'\n",
       "13. 'order'\n",
       "14. 'dwc:phylum'\n",
       "15. 'dwc:scientificNameAuthorship'\n",
       "16. 'typestatus'\n",
       "17. 'dwc:typeStatus'\n",
       "18. 'class'\n",
       "19. 'phylum'\n",
       "20. 'kingdom'\n",
       "21. 'dwc:taxonRank'\n",
       "22. 'dwc:kingdom'\n",
       "\n",
       "\n"
      ],
      "text/plain": [
       " [1] \"scientificname\"               \"dwc:class\"                   \n",
       " [3] \"taxonrank\"                    \"dwc:order\"                   \n",
       " [5] \"dwc:scientificName\"           \"family\"                      \n",
       " [7] \"dwc:genus\"                    \"dwc:family\"                  \n",
       " [9] \"dwc:identifiedBy\"             \"dwc:specificEpithet\"         \n",
       "[11] \"specificepithet\"              \"genus\"                       \n",
       "[13] \"order\"                        \"dwc:phylum\"                  \n",
       "[15] \"dwc:scientificNameAuthorship\" \"typestatus\"                  \n",
       "[17] \"dwc:typeStatus\"               \"class\"                       \n",
       "[19] \"phylum\"                       \"kingdom\"                     \n",
       "[21] \"dwc:taxonRank\"                \"dwc:kingdom\"                 "
      ]
     },
     "metadata": {},
     "output_type": "display_data"
    }
   ],
   "source": [
    "ff <- unique(df$V2)\n",
    "ff"
   ]
  },
  {
   "cell_type": "code",
   "execution_count": 7,
   "metadata": {
    "collapsed": false
   },
   "outputs": [
    {
     "name": "stderr",
     "output_type": "stream",
     "text": [
      "Warning message in data.frame(fieldname = udf$V3, reps = as.numeric(udf$V4), stringsAsFactors = F):\n",
      "\"NAs introduced by coercion\"Warning message in data.frame(fieldname = udf$V3, reps = as.numeric(udf$V4), stringsAsFactors = F):\n",
      "\"NAs introduced by coercion\"Warning message in data.frame(fieldname = udf$V3, reps = as.numeric(udf$V4), stringsAsFactors = F):\n",
      "\"NAs introduced by coercion\"Warning message in data.frame(fieldname = udf$V3, reps = as.numeric(udf$V4), stringsAsFactors = F):\n",
      "\"NAs introduced by coercion\"Warning message in data.frame(fieldname = udf$V3, reps = as.numeric(udf$V4), stringsAsFactors = F):\n",
      "\"NAs introduced by coercion\"Warning message in data.frame(fieldname = udf$V3, reps = as.numeric(udf$V4), stringsAsFactors = F):\n",
      "\"NAs introduced by coercion\"Warning message in data.frame(fieldname = udf$V3, reps = as.numeric(udf$V4), stringsAsFactors = F):\n",
      "\"NAs introduced by coercion\""
     ]
    }
   ],
   "source": [
    "for (iii in 1:length(ff)){\n",
    "        udf <- df[df$V2==ff[iii],]\n",
    "        fieldName <- if(sub('.', '',sub(\"^[^:]*\", \"\", ff[iii]))>0){sub('.', '',sub(\"^[^:]*\", \"\", ff[iii]))}else{paste0(\"index.\",ff[iii])}\n",
    "        termDF <- data.frame(fieldname=udf$V3,reps=as.numeric(udf$V4),stringsAsFactors = F)\n",
    "        if(length(termDF[is.na(termDF$fieldname),]$fieldname)>0){termDF[is.na(termDF$fieldname),]$fieldname<- \"\"} \n",
    "        termDF <- aggregate(reps ~ fieldname + reps, data = termDF, sum)\n",
    "        names(termDF) <- c(fieldName,\"reps\")\n",
    "        termDF <- termDF[order(termDF$reps,decreasing = T,na.last = NA),]\n",
    "        fileName <- paste0(\"/home/kevinlove/paleo/outputs/paleo-idigbioDistinctValues/taxon/iDigBio_paleo_TAXON_distinct_\",fieldName,\"_\",format(Sys.Date(), \"%d-%m-%y\"),\".csv\")\n",
    "        write.csv(termDF,file = fileName,row.names = F)\n",
    "}"
   ]
  },
  {
   "cell_type": "code",
   "execution_count": 27,
   "metadata": {
    "collapsed": false
   },
   "outputs": [
    {
     "data": {
      "text/html": [
       "0"
      ],
      "text/latex": [
       "0"
      ],
      "text/markdown": [
       "0"
      ],
      "text/plain": [
       "[1] 0"
      ]
     },
     "metadata": {},
     "output_type": "display_data"
    }
   ],
   "source": []
  },
  {
   "cell_type": "code",
   "execution_count": null,
   "metadata": {
    "collapsed": false
   },
   "outputs": [],
   "source": []
  },
  {
   "cell_type": "code",
   "execution_count": null,
   "metadata": {
    "collapsed": false
   },
   "outputs": [],
   "source": []
  },
  {
   "cell_type": "code",
   "execution_count": null,
   "metadata": {
    "collapsed": false
   },
   "outputs": [],
   "source": []
  }
 ],
 "metadata": {
  "kernelspec": {
   "display_name": "R",
   "language": "R",
   "name": "ir"
  },
  "language_info": {
   "codemirror_mode": "r",
   "file_extension": ".r",
   "mimetype": "text/x-r-source",
   "name": "R",
   "pygments_lexer": "r",
   "version": "3.4.0"
  }
 },
 "nbformat": 4,
 "nbformat_minor": 1
}
